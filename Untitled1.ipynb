{
  "nbformat": 4,
  "nbformat_minor": 0,
  "metadata": {
    "colab": {
      "provenance": [],
      "toc_visible": true,
      "authorship_tag": "ABX9TyMuzejZi431b0raPNQcrTGZ",
      "include_colab_link": true
    },
    "kernelspec": {
      "name": "python3",
      "display_name": "Python 3"
    },
    "language_info": {
      "name": "python"
    }
  },
  "cells": [
    {
      "cell_type": "markdown",
      "metadata": {
        "id": "view-in-github",
        "colab_type": "text"
      },
      "source": [
        "<a href=\"https://colab.research.google.com/github/coolkat2000/Assignment1/blob/main/Untitled1.ipynb\" target=\"_parent\"><img src=\"https://colab.research.google.com/assets/colab-badge.svg\" alt=\"Open In Colab\"/></a>"
      ]
    },
    {
      "cell_type": "markdown",
      "source": [
        "#Background: Hospital Quality of Care\n",
        "Quality of care in the US health system shas become one of the main issues in our nation today especially when comparing the US to other developed nations.  The cost and quality of the U.S. healthcare system is one of the most prominent issues facing everyday Americans today. It is a concern for most Americans, a huge factor of economic efficiency, and driver of the national debt.  The U.S. ranks last in a measure of health care access and quality, indicating higher rates of preventable mortality than peer countries.   The Agency for Healthcare Research and Quality Identifies the six domains of Quality as such:\n",
        "1. Safe Care:  Avoiding harm to patients from the care intended to help them\n",
        "2. Effective Care: providing care that is based on best practices\n",
        "3. Patient-Centered Care: Providing care that is respectiful and responsive to individual prefrences and ensure the patient understands all the descions that are made\n",
        "4. Timely Care: Reducing waits and harmful delays\n",
        "5. Efficient Care: Avoiding waste\n",
        "6. Equaitbale Care:  Providing care that does not discrimanate\n",
        "\n",
        "They have developed 16 indicators that measure a hospital’s performace for quality around inpatient visits\n",
        "\n",
        "## Project Description\n",
        "Develop a classification learning Model that will indeintify if hospital provides Quality of care using anaual data form the 16 patient safety indicators.\n",
        "\n",
        "### Performance Metric\n",
        "The model will Ideitify a \"N\" for poor quality or \"Y\" for good good quality of care\n",
        "\n",
        "\n",
        "\n"
      ],
      "metadata": {
        "id": "mKV9ZPsv1rQ3"
      }
    }
  ]
}